{
 "cells": [
  {
   "cell_type": "code",
   "execution_count": null,
   "id": "3ec02f2b-6157-42e6-a1a4-f63c9e591d1c",
   "metadata": {},
   "outputs": [],
   "source": [
    "#a"
   ]
  }
 ],
 "metadata": {
  "kernelspec": {
   "display_name": "Python 3 (ipykernel)",
   "language": "python",
   "name": "python3"
  },
  "language_info": {
   "codemirror_mode": {
    "name": "ipython",
    "version": 3
   },
   "file_extension": ".py",
   "mimetype": "text/x-python",
   "name": "python",
   "nbconvert_exporter": "python",
   "pygments_lexer": "ipython3",
   "version": "3.12.3"
  }
 },
 "nbformat": 4,
 "nbformat_minor": 5
}
